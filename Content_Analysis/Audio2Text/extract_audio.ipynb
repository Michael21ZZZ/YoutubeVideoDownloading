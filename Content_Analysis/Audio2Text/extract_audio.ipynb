{
  "nbformat": 4,
  "nbformat_minor": 0,
  "metadata": {
    "colab": {
      "name": "extract_audio.ipynb",
      "provenance": [],
      "collapsed_sections": []
    },
    "kernelspec": {
      "name": "python3",
      "display_name": "Python 3"
    },
    "language_info": {
      "name": "python"
    }
  },
  "cells": [
    {
      "cell_type": "code",
      "execution_count": null,
      "metadata": {
        "colab": {
          "base_uri": "https://localhost:8080/"
        },
        "id": "_4JNZMUFMEZ8",
        "outputId": "0f70aa64-c4e1-4432-ab46-d60ab230211e"
      },
      "outputs": [
        {
          "output_type": "stream",
          "name": "stdout",
          "text": [
            "Mounted at /content/gdrive\n"
          ]
        }
      ],
      "source": [
        "from google.colab import drive\n",
        "\n",
        "drive.mount(\"/content/gdrive\", force_remount=True)"
      ]
    },
    {
      "cell_type": "code",
      "source": [
        "%cd /content/gdrive/MyDrive/\"Systems '22\"/"
      ],
      "metadata": {
        "colab": {
          "base_uri": "https://localhost:8080/"
        },
        "id": "bXo_tAbMMcNb",
        "outputId": "5c7aaf85-b6b1-4a1a-ebbf-2c34fdb4f612"
      },
      "execution_count": null,
      "outputs": [
        {
          "output_type": "stream",
          "name": "stdout",
          "text": [
            "/content/gdrive/.shortcut-targets-by-id/1ohwBGdC8wri16R_SjnGnOM_B619TDepK/Systems '22\n"
          ]
        }
      ]
    },
    {
      "cell_type": "code",
      "source": [
        "import sys\n",
        "import os, io\n",
        "from moviepy.editor import *"
      ],
      "metadata": {
        "id": "TcoujX-ZNVTA",
        "colab": {
          "base_uri": "https://localhost:8080/"
        },
        "outputId": "9ba7c335-ee87-4ae7-9ae9-152159043e29"
      },
      "execution_count": null,
      "outputs": [
        {
          "output_type": "stream",
          "name": "stdout",
          "text": [
            "Imageio: 'ffmpeg-linux64-v3.3.1' was not found on your computer; downloading it now.\n",
            "Try 1. Download from https://github.com/imageio/imageio-binaries/raw/master/ffmpeg/ffmpeg-linux64-v3.3.1 (43.8 MB)\n",
            "Downloading: 8192/45929032 bytes (0.0%)\b\b\b\b\b\b\b\b\b\b\b\b\b\b\b\b\b\b\b\b\b\b\b\b\b\b2531328/45929032 bytes (5.5%)\b\b\b\b\b\b\b\b\b\b\b\b\b\b\b\b\b\b\b\b\b\b\b\b\b\b\b\b\b5677056/45929032 bytes (12.4%)\b\b\b\b\b\b\b\b\b\b\b\b\b\b\b\b\b\b\b\b\b\b\b\b\b\b\b\b\b\b9027584/45929032 bytes (19.7%)\b\b\b\b\b\b\b\b\b\b\b\b\b\b\b\b\b\b\b\b\b\b\b\b\b\b\b\b\b\b12197888/45929032 bytes (26.6%)\b\b\b\b\b\b\b\b\b\b\b\b\b\b\b\b\b\b\b\b\b\b\b\b\b\b\b\b\b\b\b15515648/45929032 bytes (33.8%)\b\b\b\b\b\b\b\b\b\b\b\b\b\b\b\b\b\b\b\b\b\b\b\b\b\b\b\b\b\b\b18874368/45929032 bytes (41.1%)\b\b\b\b\b\b\b\b\b\b\b\b\b\b\b\b\b\b\b\b\b\b\b\b\b\b\b\b\b\b\b21962752/45929032 bytes (47.8%)\b\b\b\b\b\b\b\b\b\b\b\b\b\b\b\b\b\b\b\b\b\b\b\b\b\b\b\b\b\b\b25190400/45929032 bytes (54.8%)\b\b\b\b\b\b\b\b\b\b\b\b\b\b\b\b\b\b\b\b\b\b\b\b\b\b\b\b\b\b\b28663808/45929032 bytes (62.4%)\b\b\b\b\b\b\b\b\b\b\b\b\b\b\b\b\b\b\b\b\b\b\b\b\b\b\b\b\b\b\b31670272/45929032 bytes (69.0%)\b\b\b\b\b\b\b\b\b\b\b\b\b\b\b\b\b\b\b\b\b\b\b\b\b\b\b\b\b\b\b34676736/45929032 bytes (75.5%)\b\b\b\b\b\b\b\b\b\b\b\b\b\b\b\b\b\b\b\b\b\b\b\b\b\b\b\b\b\b\b37986304/45929032 bytes (82.7%)\b\b\b\b\b\b\b\b\b\b\b\b\b\b\b\b\b\b\b\b\b\b\b\b\b\b\b\b\b\b\b41279488/45929032 bytes (89.9%)\b\b\b\b\b\b\b\b\b\b\b\b\b\b\b\b\b\b\b\b\b\b\b\b\b\b\b\b\b\b\b44711936/45929032 bytes (97.4%)\b\b\b\b\b\b\b\b\b\b\b\b\b\b\b\b\b\b\b\b\b\b\b\b\b\b\b\b\b\b\b45929032/45929032 bytes (100.0%)\n",
            "  Done\n",
            "File saved as /root/.imageio/ffmpeg/ffmpeg-linux64-v3.3.1.\n"
          ]
        }
      ]
    },
    {
      "cell_type": "code",
      "source": [
        "# assign video path and audio path here\n",
        "VIDEO_PATH = \"videos/videos_final\"\n",
        "AUDIO_PATH = \"text/audios-wav\""
      ],
      "metadata": {
        "id": "tOMdVnmEyVYH"
      },
      "execution_count": null,
      "outputs": []
    },
    {
      "cell_type": "code",
      "source": [
        "video_id_list = os.listdir(VIDEO_PATH)\n",
        "\n",
        "audio_id_list = os.listdir(AUDIO_PATH)\n",
        "audio_id_list = [a.split(\".\")[0] for a in audio_id_list]\n",
        "\n",
        "for video_id in video_id_list:\n",
        "    if 'mp4' in video_id and video_id.split(\".\")[1] == \"mp4\":\n",
        "        if video_id.split(\".\")[0] not in audio_id_list:\n",
        "          try:\n",
        "              video = VideoFileClip(os.path.join(VIDEO_PATH, video_id))\n",
        "              audio = video.audio\n",
        "              audio_id = video_id.replace('.mp4', '.wav')\n",
        "              audio.write_audiofile(os.path.join(AUDIO_PATH, audio_id))\n",
        "              video.close()\n",
        "              audio.close()\n",
        "          except:\n",
        "              print('can not extract from ', video_id)"
      ],
      "metadata": {
        "colab": {
          "base_uri": "https://localhost:8080/"
        },
        "id": "VUsQ54d1ONAM",
        "outputId": "5fc5eacd-f541-4ef4-e102-0e686524d3c1"
      },
      "execution_count": null,
      "outputs": [
        {
          "output_type": "stream",
          "name": "stdout",
          "text": [
            "['4BVbYDavIyQ.mp4', '4KJrK949t40.mp4', '43JdUcz1Y10.mp4', '4VgOavmhVsQ.mp4', '4OcnvlqhNcI.mp4', '4EnhKEeZ928.mp4', '4X0jKnpc7lQ.mp4', '4_KtF74ibPw.mp4', '4YNdp3pRjig.mp4', '4SZGM_E5cLI.mp4', '4YGWbAosr-c.mp4', '4eOdK9bz72o.mp4', '4y7JcA5nnxc.mp4', '4yj-1Uo3Tj8.mp4', '4q1n7DOdMdw.mp4', '4yjxdO6ObKM.mp4', '58_GuTFrDn0.mp4', '53FgitG2jl4.mp4', '5OmKjrKmZSU.mp4', '5OxWh7XMi-I.mp4', '5-qqW_5ee7w.mp4', '5KW4oBS-270.mp4', '5V0oRu0wvmw.mp4', '5pURzPRdELY.mp4', '5a2RGCYehVA.mp4', '5pD9HnPYQao.mp4', '5vwJCqCrMgk.mp4', '62DRz0MGvt4.mp4', '5zvUlU_9PJE.mp4', '5wS3qtQyue4.mp4', '5nEnB97_W6I.mp4', '5iaZip66Ct0.mp4', '69HCEUzFXgU.mp4', '6E55JuMp2OY.mp4', '6buIk5Qggt0.mp4', '6NWm4zAW4Qc.mp4', '6HGS4OvzDZ4.mp4', '74s6eiBBBFU.mp4', '6X-t_aSTp0Q.mp4', '6rPOpdwDdf8.mp4', '6EwqFalqfGE.mp4', '741zzJKojhY.mp4', '6aa_AseIQxo.mp4', '77oyUdNZ054.mp4', '7Fq7spdkV8M.mp4', '7PBYGu4Az8s.mp4', '7MEdFIXTHP4.mp4', '7QokaQsofzs.mp4', '7cEd2ZrItNg.mp4', '7Q8nrOm-t3w.mp4', '7baGUWm7gYw.mp4', '7SbK7u6L2eU.mp4', '7UgzlFkItjk.mp4', '7nlW3bUjpxk.mp4', '7DaDVmNKSUE.mp4', '7XAX9JU287g.mp4', '7okPuz_xBIs.mp4', '7X5Br3YMCWE.mp4', '7zcN5OeG5o4.mp4', '8MPdw-0HbTg.mp4', '7hnppDymQjk.mp4', '86O0ABciCRE.mp4', '7qd0gLQ6W98.mp4', '88N5kx7WjZY.mp4', '8UVyZKpPto4.mp4', '8K61V8gSnDs.mp4', '85CksrhnPCM.mp4', '8fxy-dMqt1Y.mp4', '8efeQ8H5cRg.mp4', '8yGN1keG_yo.mp4', '8xz4VCgx-uE.mp4', '8W8rlLrT2IE.mp4', '91d7RAFI-2w.mp4', '8mJAWile3gY.mp4', '8S8d7YPvucY.mp4', '92lqVZ22rfA.mp4', '8xxz_PgVuWs.mp4', '8r0e8WBBg6o.mp4', '9FbdOxfyll0.mp4', '9V6SH5ySg0o.mp4', '9NkF6BPrxpA.mp4', '9CNmca7YfJE.mp4', '91ixIPtg90Q.mp4', '97v2WUJdWGc.mp4', '9M72oTDgBgc.mp4', '92dxKiti9hU.mp4', '9hi8suRBSSE.mp4', 'A0qCnOsLUds.mp4', '9f5n4DhiIUo.mp4', '9tvD2sMl9hI.mp4', '9iUB9GMxjNw.mp4', 'A370WEFeVm4.mp4', '9j5khsROhQA.mp4', '9iW7UrH4YyQ.mp4', '9uUXgMNS23k.mp4', 'A4mv0pLQwhU.mp4', 'A-8de9LuVJQ.mp4', 'AHrwJVzlPXY.mp4', 'AVJwcwbL054.mp4', 'AI-edvZx2GU.mp4', 'ACx1t-Tv14k.mp4', 'AD7hssdXtKk.mp4', 'AdG2EEKZ_f0.mp4', 'Ab9OZsDECZw.mp4', 'AM5MgWN5C8c.mp4', 'AqV5bUpbCpY.mp4', 'AAPhWbG_zLs.mp4', 'AR2MpzKboCc.mp4', 'A_9k8dFdPe4.mp4', 'B-Po2Oxop88.mp4', 'AstsUAR8j5Q.mp4', 'AyDHP9puCag.mp4', 'AvwtWY1DAJ4.mp4', 'BgNpATWfR5Y.mp4', 'B2qd4lLUHKQ.mp4', 'BRl8Um_w0oE.mp4', 'Bl-zY3dkyg0.mp4', 'BP99t8DaXVU.mp4', 'BoT0Qv0BIZs.mp4', 'AuAtzhzmVik.mp4', 'Bu-V-VS3PRE.mp4', 'BuQCdrBEkvY.mp4', 'Bz5AjMAA8fg.mp4', 'BlAFhg3tlYE.mp4', 'Bx5upv_Wzso.mp4', 'BubcCGoClzc.mp4', 'C3AQIfgthh4.mp4', 'BftwyUs58JU.mp4', 'CCBEfQjf9NY.mp4', 'C0coWZbO-_E.mp4', 'C5dU3zqkT8o.mp4', 'CPjAZ03kWG4.mp4', 'CRCLSs-Lh0U.mp4', 'C8yAb7MDW5k.mp4', 'CYCeEKNuakM.mp4', 'CKlSFlnmDcY.mp4', 'Ce25s6m3RDw.mp4', 'BzsiHxvGUI4.mp4', 'C6h2NR7QQro.mp4', 'CqWbINKy_90.mp4', 'CnsxqAVw97Y.mp4', 'CV46E7l4Qww.mp4', 'Cw0PEknFnsM.mp4', 'CbRWvj2VYHw.mp4', 'CuipeYchxKE.mp4', 'CvwE7P4GVes.mp4', 'CyEGCzNTNjI.mp4', 'D9KZEjs6wTY.mp4', 'D7dJt0pVmHM.mp4', 'DECKE-ZJbSE.mp4', 'CyOdY5L-YeE.mp4', 'DCwNR3r217I.mp4', 'DG6lOGsBX5o.mp4', 'DTrhneXnshk.mp4', 'Dg3_yWLOJ7o.mp4', 'DcYxLHBjxaE.mp4', 'DKjmNVCZhsA.mp4', 'DcDFhQYRvqU.mp4', 'DWUfuxjyFvI.mp4', 'Do9GCDryT3k.mp4', 'DoC21ItfQbM.mp4', 'E3pSKea_6fA.mp4', 'EOAsKePIbYU.mp4', 'EEd7jqaE2eg.mp4', 'E2SkzWC4siU.mp4', 'E23K2gZYlIQ.mp4', 'EevTWpEnWaY.mp4', 'Ea5vcpjOzxw.mp4', 'E4nEnsvdJ4Q.mp4', 'EXNLA6j2x0M.mp4', 'E3QW_y_tms0.mp4', 'EW55TFDFrZ0.mp4', 'EwvdgomJH20.mp4', 'EzFh51o__oU.mp4', 'EjbnE4mtUp4.mp4', 'EvmhmTwuwgo.mp4', 'Etras1sDh84.mp4', 'ExdNvNYoSDw.mp4', 'Eu0O4AQkiTk.mp4', 'F1YDR2S7SPU.mp4', 'FF-UXsxj-Wk.mp4', 'F7x_2f7uQyc.mp4', 'FNI00N5dZSI.mp4', 'FHdJUEvoBWc.mp4', 'F7StGoDvPG8.mp4', 'FINg3Wg3IBo.mp4', 'Fb08d7jlhss.mp4', 'FInJq_xKLH4.mp4', 'FZfz-K0VZXk.mp4', 'FLYHICUIYDE.mp4', 'FUcolnh40HA.mp4', 'F_eeAS02-T4.mp4', 'FqVFAIP6kFI.mp4', 'Ftm3uxhdP7w.mp4', 'FeSb9ve9IwQ.mp4', 'FzXqOuXDMEE.mp4', 'G5Tp0MjZ5_g.mp4', 'FvPZ2k7RS-I.mp4', 'FsNKyKS7M_s.mp4', 'FyXUoB8ujMo.mp4', 'G3_iuZTgKoQ.mp4', 'G6UPq5j2g9A.mp4', 'G12NGW8rgTU.mp4', 'GCZHEDiPlVY.mp4', 'G8svzYKU40E.mp4', 'G6LyE-hSKCE.mp4', 'GVbXBSXKrDU.mp4', 'GHhMSW1ffd8.mp4', 'GY8S5ts8_p0.mp4', 'GLHmlZeVT6w.mp4', 'HE-erLKq1T4.mp4', 'Gf4YVmAjQvM.mp4', 'Gmic13mvsgo.mp4', 'HUWy9V-of-0.mp4', 'HSoJkzyUaRQ.mp4', 'HOu693SV4e0.mp4', 'HaI0smmx8w0.mp4', 'H8rHmS7d5wo.mp4', 'GyPsBFqnOG0.mp4', 'HFGJ0zeRXt4.mp4', 'HRLsi9ufXks.mp4', 'H5LuUPA8Hvk.mp4', 'HiqoicYtVjo.mp4', 'HHxsg3XmKSQ.mp4', 'HdtRu5ZU9Y8.mp4', 'I-QDeRnCjp4.mp4', 'Hf4YEIrLC2I.mp4', 'HyKyfNkoBOo.mp4', 'I3NIfILcdYY.mp4', 'HwrD8N5xgO4.mp4', 'Ht8yNvemmQg.mp4', 'I7txsS7TPTY.mp4', 'HkiGAos_TBs.mp4', 'IJuP9F-U3Kc.mp4', 'IO6XF9RPjC4.mp4', 'I4MD0HH4YWY.mp4', 'IRif-HhwMT0.mp4', 'IADGa54WKGU.mp4', 'ITcU_94MU0k.mp4', 'IRV2wWm6BQk.mp4', 'IIyMmg5e2qI.mp4', 'IDDPNuU-420.mp4', 'IXD07Xp45cc.mp4', 'IQy6E5aVUzo.mp4', 'I8D8zpLqpw8.mp4', 'IVH_6ciQfZk.mp4', 'IT8ORemILrA.mp4', 'IchZr7b9EwA.mp4', 'IgvAo4D-x90.mp4', 'J5aDq3wukAc.mp4', 'IZObgO741Jc.mp4', 'IoiTgPuYZbg.mp4', 'ImrjXLooqi0.mp4', 'J8uGuJ9rQVU.mp4', 'Iy20E7SrqUc.mp4', 'JAso88uF334.mp4', 'J5c5AfZflaI.mp4', 'JBYy5C5bu4I.mp4', 'JfWUj-mjfFY.mp4', 'J5T1YkE1tGM.mp4', 'JAjZv41iUJU.mp4', 'JbfUuvjcOtQ.mp4', 'Jwb6qCD-GKE.mp4', 'JlHXd8BU8Nw.mp4', 'Ji7n59Tiwwo.mp4', 'JhT78beq9Xg.mp4', 'Jl77C9JQa1I.mp4', 'K2BHxaajpcs.mp4', 'K-xDHNB8eBg.mp4', 'K1v4wmKuPVk.mp4', 'KFdy6Jk09t8.mp4', 'K2iSs8d91GM.mp4', 'KLoaYPXlWHM.mp4', 'KEUJuirSrJg.mp4', 'KJLfx6GG03k.mp4', 'KINeFbp0LSI.mp4', 'JzqLU9O1RWM.mp4', 'KY8BkJCNfkE.mp4', 'KZAlMTVB0Iw.mp4', 'KP6Zm9vl3FM.mp4', 'KgGm-QgX1_4.mp4', 'KZCQOrdFc8w.mp4', 'KqEqzi6eXGY.mp4', 'Kjx8ZeyLBIY.mp4', 'KMrBpj2nx4Y.mp4', 'KbHbQ26TBAc.mp4', 'KrtbQ4IDozU.mp4', 'KWK-Hfgz_a4.mp4', 'Kw2XP44oEQM.mp4', 'KvGhlbYxeOE.mp4', 'KylrAw2e8mA.mp4', 'LDlLfsmk1DE.mp4', 'L-kL76crR70.mp4', 'LIfF5f4XQqc.mp4', 'LKn6vHG3cLc.mp4', 'LKzzIZHUUNQ.mp4', 'L6pJrxmDYEI.mp4', 'LQwxNS7ny0E.mp4', 'LZexnAq4hd4.mp4', 'LOa-uXkn4Ds.mp4', 'LULcx2jccXU.mp4', 'L7gOz64tpTo.mp4', 'Lcv0LbMjD4I.mp4', 'LeG45M4XTjA.mp4', 'LO-hIUcLinY.mp4', 'LcpRjHcu5bg.mp4', 'LjRmmPTdFgE.mp4', 'LbGYHhQRtVs.mp4', 'LhffntG2kV0.mp4', 'LqMxWPmxylY.mp4', 'M2GpXdOabZI.mp4', 'MI4J7Uo4A7s.mp4', 'LvkPlumDAGE.mp4', 'LvaVsnHbIbI.mp4', 'LqWL4iM6AHs.mp4', 'M278Lo83cVY.mp4', 'M3scItIB954.mp4', 'MKS2Hm5ofBE.mp4', 'M9LCBJvodR4.mp4', 'MPfBGjP-cQs.mp4', 'MmPi_HnTzMU.mp4', 'MiK_sS-ckbU.mp4', 'MThqK9flPj0.mp4', 'M_zxqgRFTOU.mp4', 'Mko250V6PYI.mp4', 'MrzbFpzt_4s.mp4', 'MUWG_OGtg2Q.mp4', 'Mlx_eXtHRgQ.mp4', 'MgNMqoiJLrw.mp4', 'N4diCnJhdeU.mp4', 'NI79s7lcW-4.mp4', 'MveYRVTaUyU.mp4', 'NMvrqByanI0.mp4', 'NFI4UcpNxJw.mp4', 'N1XkzJ_Mu1s.mp4', 'NQS8jdU1pbk.mp4', 'NDmrNp8EF1M.mp4', 'NCbJxrYqxao.mp4', 'NLaqgRyR_oI.mp4', 'NU10o2EwLlU.mp4', 'NWJAoc03TuE.mp4', 'NnU_OIqXEVI.mp4', 'NhcGw5Vwfrw.mp4', 'NXS4DBBhHlU.mp4', 'NR1fyFM1Dro.mp4', 'NmU0B-XAUr0.mp4', 'Nujyif7MkMA.mp4', 'NolRQFcKuxk.mp4', 'O1jhYm7uXqw.mp4', 'O6A6i50C13k.mp4', 'O7PKOMcogOU.mp4', 'NzVMK2_FFI0.mp4', 'OB0tDXhOdwg.mp4', 'OFl_bKVYsPo.mp4', 'O7l3qg0Z4GE.mp4', 'OEnfC5iZeNI.mp4', 'O4FRpaoYlP0.mp4', 'OMn8Tq5Eyao.mp4', 'Nw9yN_83uZ8.mp4', 'OKqWYX66KJ4.mp4', 'OJq_3J8x2qY.mp4', 'OcKxYb9mZcU.mp4', 'OHW3RWgbSM0.mp4', 'OMTbHmLqm8M.mp4', 'OlP9j1Z2Qbo.mp4', 'P2SWz2pu2NQ.mp4', 'Oc-PEMk2oGE.mp4', 'PBjatPLjof0.mp4', 'PBB4SHQHTbY.mp4', 'P80OJ3M_GcU.mp4', 'OrcdGY64iEE.mp4', 'OxH6kOud_10.mp4', 'PDB5K5q7II4.mp4', 'P1gB0RTqi-I.mp4', 'PHLL3T78n9A.mp4', 'PSRgQFSuX7o.mp4', 'PI_LK4OjvNE.mp4', 'PDxCnPwklAM.mp4', 'PqgKFsK7f-Q.mp4', 'PdH2Gp9OeFk.mp4', 'PMjtbvqlqso.mp4', 'PpuiO6WJxic.mp4', 'Pz_f5mEid3A.mp4', 'Q6OtzmR3eXo.mp4', 'QA1KHpMikYE.mp4', 'QBKpgpJjczA.mp4', 'PyXkEfQYcto.mp4', 'QHE4WxGIHug.mp4', 'QKbczu4TR_Q.mp4', 'PtpSVGSY59A.mp4', 'QJX8K4oVHLQ.mp4', 'QQWTSa9vT7E.mp4', 'QZu4UYrqoUE.mp4', 'Qlf3D-sfaBo.mp4', 'QZDn2g98xk0.mp4', 'QSbU-AI5vuE.mp4', 'QG2Kr3i9gbc.mp4', 'Qh2H2HRcnqA.mp4', 'Q_70nwRIkHU.mp4', 'QsSZNetJIuA.mp4', 'Qvm77ZuZJlQ.mp4', 'RBaDYCJ-QOc.mp4', 'RAfoWVy6XhM.mp4', 'QxvqNJTJ9aA.mp4', 'RBMuLvBKF3E.mp4', 'RF769x31Sms.mp4', 'R5FworVXyW0.mp4', 'ReHM_G1Dsic.mp4', 'RWucpVEBJFA.mp4', 'RwEoKMdXpCc.mp4', 'RsaptxYQINU.mp4', 'SCgHauE_AdY.mp4', 'RjWXPfGsgfg.mp4', 'RpfHg6Que7E.mp4', 'SEiFVzNbxBU.mp4', 'RJ0QBsHHrvo.mp4', 'S4JN4yGTXsQ.mp4', 'SP3X-_i7LLc.mp4', 'SPVgzVshNKk.mp4', 'S8__zp7PdZM.mp4', 'SQob7fvd-zQ.mp4', 'SRZlYdQWO3g.mp4', 'S_aDReG4Dik.mp4', 'SF7vOJjMEws.mp4', 'SaPPHtZq_BU.mp4', 'SRSJILKSx18.mp4', 'SsF9XGvgr3U.mp4', 'Sl2bcHVR1l8.mp4', 'SgFsfEds7DY.mp4', 'SenZ6Hs4uWo.mp4', 'Sj--KXvi80o.mp4', 'SqbMNREZG2U.mp4', 'StG4seQPUyc.mp4', 'SykJhDLaxco.mp4', 'T28YaCoRd1E.mp4', 'SuFVVCvancY.mp4', 'T-8O1KcRx_k.mp4', 'TOcIXRGxtfE.mp4', 'TNspLEjrQ00.mp4', 'T12v9QTVwQQ.mp4', 'TKGBNNRWYts.mp4', 'TSf3bS6ry-8.mp4', 'SuwR46p7wrA.mp4', 'TQ85DQ_MqWA.mp4', 'T_g1JJKmC6g.mp4', 'Te-7MHcUg8M.mp4', 'TV9kT-ZTZko.mp4', 'TYINyqyp8xE.mp4', 'TfLY7i9SHAo.mp4', 'Tb1O8czdAx0.mp4', 'TbhMjm-qhWE.mp4', 'Tt3J0flYZt8.mp4', 'Tv7-2r8Ki1U.mp4', 'U5VVSCVJt_w.mp4', 'U0S_0nu1TJM.mp4', 'TtAP3-xQlgE.mp4', 'UGOoeqSo_ws.mp4', 'Tqfsh-V41Oc.mp4', 'TidRyyrTz4k.mp4', 'UKxfkCSiEIw.mp4', 'UIQgolIGQEU.mp4', 'TyHc434jxrc.mp4', 'UP348xehyl4.mp4', 'UN-FVXP4yaY.mp4', 'UV51fxVMyx4.mp4', 'UZTBCTM3o_M.mp4', 'UMgmDB59rNs.mp4', 'UiJOohm2sp0.mp4', 'UiJz_MDuJvM.mp4', 'V81V1-rpgBk.mp4', 'UvWUiiK4ATg.mp4', 'V04zDVXMbuw.mp4', 'V2XXfiESQBg.mp4', 'VStR7iOeR0E.mp4', 'UowWA-8TiyI.mp4', 'V3D4Uz_rH5U.mp4', 'VP_I6YJPIj8.mp4', 'VZBGZ7YT-vY.mp4', 'W1xwhaNyHXQ.mp4', 'VQcnVBfkIkE.mp4', 'V_WaqwJ96uU.mp4', 'VbwRYFMPZS4.mp4', 'W6qjGHEH7OI.mp4', 'WI6f8aoWyD8.mp4', 'VlM8xe3dG54.mp4', 'W3xE6BRra2g.mp4', 'WM3v85H1jX0.mp4', 'W9OyCPDBPr0.mp4', 'WeLPalujddI.mp4', 'WZBGlX_f90k.mp4', 'Wa6_y3X0U48.mp4', 'WFRuW80TRg8.mp4', 'Wtof98E8cC4.mp4', 'WIYcAy6P-hE.mp4', 'X17Q_RPUlYo.mp4', 'X1meFFqN04U.mp4', 'WnttMzrbm90.mp4', 'X1MMArXf7Wc.mp4', 'XA-uXlaUk-Y.mp4', 'WjyQTmJBXFg.mp4', 'XCyEXh87Y18.mp4', 'X8Huth0F3SE.mp4', 'X8G1YkurALI.mp4', 'XJhz6nVBdWw.mp4', 'X6_wQKJsb8k.mp4', 'XScxvR3XHhc.mp4', 'XETG8azHiv4.mp4', 'X3BCFOlk1oQ.mp4', 'XOxQyO-Sw-g.mp4', 'X_qSzk-68_A.mp4', 'XRU1drYgzgs.mp4', 'XUWNvlnyAQk.mp4', 'XcoqTLHYe2k.mp4', 'XVw4bv3DcqU.mp4', 'XfyGv-xwjlI.mp4', 'XcGCb1LIyeQ.mp4', 'Xo0UNaNbAUw.mp4', 'Xe_LsrAKP6U.mp4', 'XmYrJ0s7QQU.mp4', 'XabAWjsAzqk.mp4', 'Xd801pb8rSE.mp4', 'XuQ92dchS7E.mp4', 'Y7m4J09lEKA.mp4', 'YDUVjz2nVUo.mp4', 'YCeVI-npnMY.mp4', 'Y13hVozxXD0.mp4', 'YEvH2mPyxWI.mp4', 'YCflqB0nJ48.mp4', 'YDGcBuwwKpQ.mp4', 'YSX4UvOl_Rs.mp4', 'YX1nn4uN4fk.mp4', 'Z0qhswMQOeU.mp4', 'YSik5lUmBGE.mp4', 'Z-cxMdEvsZM.mp4', 'YiQfe-oz2C4.mp4', 'Z-d5srfI9to.mp4', 'YsxwEBgdTsM.mp4', 'Z12Wm_NGggI.mp4', 'Z-Jf4Kw7owY.mp4', 'ZBFs0cbadqo.mp4', 'YzrHHTTkLTc.mp4', 'Z5r8OHp-XII.mp4', 'Z4NWmUjuaxg.mp4', 'Z8oKroCE0Ms.mp4', 'ZG5BfVVZr3g.mp4', 'Z4kqAWuadxY.mp4', 'Z4VdCpLDlU8.mp4', 'ZQNRIeH101U.mp4', 'ZBVtGlFq-MU.mp4', 'ZW8UlgqKgfg.mp4', 'ZMzsVSHfSC0.mp4', 'ZiITCnnFbwQ.mp4', 'ZgM0t_tymm8.mp4', 'ZHi_A6tC40Y.mp4', 'ZtVoHOayVmg.mp4', 'ZN1SDz17Y-M.mp4', 'ZoH8U5HqyWE.mp4', '_9_jkzKmO6E.mp4', 'ZVJNthm7nKI.mp4', 'ZofLlDgUSgw.mp4', 'ZvLN2fEMYzc.mp4', '_PK9ZT-I2v0.mp4', '_77dEEq-IGg.mp4', '_HmRSMINhiM.mp4', '_GmJnEVmXAY.mp4', '_6L8liyKl24.mp4', '_QlTCcel4S4.mp4', '_RaaAzOx5vA.mp4', '_1I3bIx1ge8.mp4', '_8-elEw7tZM.mp4', '_Wjw7lHTSws.mp4', '_I-6ZC9d_7Q.mp4', '_y1_QUn0lxE.mp4', '_fCqEIn7ccA.mp4', '_eTAUmqG7b8.mp4', 'a4WnWzTnMEY.mp4', '_zwShbjPe58.mp4', 'aSpWn1rd0co.mp4', '_yt-jfmYb-8.mp4', '_uUNUVibyaA.mp4', 'aIajWL5eocw.mp4', 'aUdfpZdmT-Q.mp4', 'aJ1ktj_9exI.mp4', '_f97dPx2vjI.mp4', 'aSjsLZh-zgY.mp4', 'ain-R1NZMqw.mp4', 'adkRbjqiPLI.mp4', 'al2u0BSWbu0.mp4', 'a_1MEm3vJs4.mp4', 'b2I6JujQFtk.mp4', 'bAD45qPAE1M.mp4', 'bCpT4IA0-G8.mp4', 'b0LzhAhmAnM.mp4', 'bBZXkNbpOGQ.mp4', 'bIhy-Rb2xp4.mp4', 'b5iUpyfbxZE.mp4', 'bEP0Wz3kVqU.mp4', 'bPjR9kQ1ZCc.mp4', 'bDSgic8osmE.mp4', 'bSL6ax3qxaU.mp4', 'bDIlA5dm6Ys.mp4', 'bLgEKIYmBOg.mp4', 'bdCm__RfQVU.mp4', 'beuN_Wl2Aqk.mp4', 'bjqdVJysROU.mp4', 'bn4NX4x81Fk.mp4', 'bN-8oYVilps.mp4', 'bhOF3Kx8CEQ.mp4', 'byLV2bESY4k.mp4', 'bnqwDZta64Y.mp4', 'bj44NIEEES8.mp4', 'boUkQ7T1pus.mp4', 'bWlf8ap1GwM.mp4', 'byp1gWzXmDw.mp4', 'c9LwwQK5588.mp4', 'cBqeRuCUN0M.mp4', 'bzmUMxVIQVI.mp4', 'cE4AtrVEz1Y.mp4', 'cV51engpO0I.mp4', 'cNWVU5RkGcQ.mp4', 'cOuJgwSL1mo.mp4', 'c5uDE2vmZR8.mp4', 'cFltBQzpjw8.mp4', 'cVzy4kCgv5A.mp4', 'cJNKMZP1NT4.mp4', 'cVMkir5H14E.mp4', 'cf-EJMCTuw4.mp4', 'cZz7EvpXn10.mp4', 'cy2uPRdY6JY.mp4', 'ck26dVYJF_0.mp4', 'd41ttKFOuKo.mp4', 'cmUXo4Crrm0.mp4', 'cf9rTvC9U8Y.mp4', 'crobws1Rx38.mp4', 'ceHKkg5Mm88.mp4', 'dEfaxiSUFvs.mp4', 'dBW1FNpF07E.mp4', 'd86DofYpkrY.mp4', 'd1rcZaqBUx8.mp4', 'dH9Y_rby-jQ.mp4', 'dEHdD39EH4k.mp4', 'dGRzVyj3vPw.mp4', 'dFlE-rRX5pg.mp4', 'dLKGWoOI1X8.mp4', 'dVXWdyi3yhM.mp4', 'dJv7fFtPKwg.mp4', 'dYHVGtMrwF4.mp4', 'dhGvYjHzcIU.mp4', 'dafRjRtvfck.mp4', 'dQXKNXz_ZCg.mp4', 'deH1uzXA1ik.mp4', 'dcurlOHLi78.mp4', 'dyDdfchb990.mp4', 'e0XN_hjfQiA.mp4', 'eBx40CIuGpQ.mp4', 'eANADrE6oMg.mp4', 'e-_mR0ep764.mp4', 'eF4BAEnZXpM.mp4', 'eOsY84oYqKg.mp4', 'eRfMbfyJCjA.mp4', 'e4ECyfNFwp0.mp4', 'e9B4D7GBHNE.mp4', 'dhIEqen1siQ.mp4', 'ekzBdZZTRrU.mp4', 'eGGXIWFqxhY.mp4', 'eF4vqpoTD0M.mp4', 'eaT7dD7yH2U.mp4', 'evCbZ9R5utU.mp4', 'ei9zspwn3Mk.mp4', 'eqmi2ns7CKo.mp4', 'f0njRDGKaTM.mp4', 'f1_FGi3pFk0.mp4', 'fTYFsf1eFIg.mp4', 'fHOkfI5ThaI.mp4', 'fRJCfgorLzM.mp4', 'fT9GerQ7AuM.mp4', 'fHui_Q6ld10.mp4', 'fVMvY_Lsqzw.mp4', 'fsAJwOAsgac.mp4', 'fTstVBFBXfw.mp4', 'fJPzkzyuMZ8.mp4', 'f-ngEcF1nXU.mp4', 'fcVtjdrofjY.mp4', 'frfjj1OiidU.mp4', 'fv7hUTdQsoo.mp4', 'ft9-Qcyup6g.mp4', 'g4MwvHyiJs0.mp4', 'gTq4X9rfgFU.mp4', 'gIkzZP6fl0E.mp4', 'g6J97GkYkAA.mp4', 'g5QNlW9uvz0.mp4', 'fsx3FbD1qNU.mp4', 'gFq67iFrNIs.mp4', 'gBNsX6sgALM.mp4', 'gdM1ph62zno.mp4', 'g3XPxYF3Iis.mp4', 'g_IcjeeRSnw.mp4', 'gwVnGs9p-h0.mp4', 'gkLpD8yqOow.mp4', 'hbLdXC3wHGE.mp4', 'hObQ3CEN-mg.mp4', 'gsqA44mM4Kc.mp4', 'hUR5mKngvf0.mp4', 'hRh_8LLYlbo.mp4', 'hI_EHXTUpzA.mp4', 'hbeWOIkbHJI.mp4', 'hfZ5v11hXDU.mp4', 'i1XnnBMXWHI.mp4', 'iAQZlZ84Xeg.mp4', 'iNAyZ0VE03s.mp4', 'hksG3vPGLyk.mp4', 'iAGkZmwB9XM.mp4', 'iPKbj0IUld4.mp4', 'iEwqy3lzK0c.mp4', 'iNgqpAiVb50.mp4', 'hyv0hKNKiqU.mp4', 'iQlQrrdCb8Q.mp4', 'iYJ41ABHJ2U.mp4', 'iGD0KJl0rng.mp4', 'he1RxQSTV9g.mp4', 'ihqXUL5z5co.mp4', 'ikZ4C_IAi4g.mp4', 'iaONTBFUcAg.mp4', 'is9Q5ZmuhqY.mp4', 'ibZyxXG97YU.mp4', 'iZJMOAIrUIM.mp4', 'ikhiHRkPK48.mp4', 'imF8uaUD9ww.mp4', 'j9jVGO4To4A.mp4', 'indqygzNW3w.mp4', 'iuQnWadkBKw.mp4', 'jKfKjLNzkko.mp4', 'jL5mNay_Xt0.mp4', 'jPJb30zPGLg.mp4', 'ir3snqj3X7I.mp4', 'jHZt0naRnbM.mp4', 'jROu0Mo3A9M.mp4', 'jKrSV5cX9rI.mp4', 'jRQNAa-tqr8.mp4', 'jQnYSydwi4M.mp4', 'jwGS75CnlOo.mp4', 'jvg8EmtWF78.mp4', 'kAuqepcXRbM.mp4', 'jX-bNCbzdUc.mp4', 'kI6FITZycek.mp4', 'kGPUkvkNebk.mp4', 'jxbbBmbvu7I.mp4', 'kQHd4P8NhRc.mp4', 'kJuRgh3yS6E.mp4', 'kOnN-Zh6HHE.mp4', 'kgODF9YrvLI.mp4', 'kID-schp2eg.mp4', 'kR_Nz4IMk3w.mp4', 'kY9clp_6Fg0.mp4', 'kvilGivh_2M.mp4', 'kiVaYO8gLfc.mp4', 'kiNW7tmSQ_4.mp4', 'kwlK1uuJkZQ.mp4', 'knXSucCKnmM.mp4', 'kdu5QaRINIY.mp4', 'l-B2pCcNibc.mp4', 'l_fc0RwSeCo.mp4', 'lPdOdgvprsM.mp4', 'lYVSlpqxmBE.mp4', 'kzimFznM_XU.mp4', 'kjMq07ldpMo.mp4', 'lhJUYv8SKFs.mp4', 'lLGpRQNAku4.mp4', 'm5H1aKhg7DI.mp4', 'mMcz8jeAvIY.mp4', 'lnCpoErQeWU.mp4', 'mD_qpFJVKcw.mp4', 'mC_pySnBU_4.mp4', 'lxSVI-OmpiA.mp4', 'mVUuREjXKXw.mp4', 'mQA9XFp8_hE.mp4', 'mXPLkewCvWU.mp4', 'mWm4ypCyFxQ.mp4', 'mfbu8Hjpftc.mp4', 'mF2Vel8Ctlg.mp4', 'mbD2oAjPU0c.mp4', 'mnlMEHA_Xro.mp4', 'mi1aHDXjp0Q.mp4', 'mgdvJtJrMuI.mp4', 'mqUNB-dkCyc.mp4', 'm_2dJQspxRA.mp4', 'nLodV8G-FRc.mp4', 'nSuBzZR6llY.mp4', 'n_1jO64tuQA.mp4', 'nekt1YY0RRc.mp4', 'nHte2xl60ec.mp4', 'nMER_XZYvL4.mp4', 'nFN_esLQ2tE.mp4', 'nTqmWLAksmk.mp4', 'o1srD-3rJV8.mp4', 'ngcneqHdH88.mp4', 'nWgf-odA50Q.mp4', 'nRqbLCmWy4A.mp4', 'o3QNkVPxkoA.mp4', 'nxfRgLdxy4Y.mp4', 'oFCn2usMKXY.mp4', 'oL-BIcUhxbM.mp4', 'oDOVXww7sSE.mp4', 'oSXdRrRSmjw.mp4', 'oRmnsUR3jMc.mp4', 'oSo4zSAXN3M.mp4', 'oIdrn7hLbGk.mp4', 'oM3YfekC61M.mp4', 'oFeKF1dILGY.mp4', 'oV9JE5K_uiM.mp4', 'oXBg2FGdtuk.mp4', 'oggVXOor1x8.mp4', 'okMAWbhRznk.mp4', 'oWGuplQfN80.mp4', 'oh4VXBNJpdA.mp4', 'oXslctvrMzw.mp4', 'oyetHtHIWx8.mp4', 'orqdxsg-Dr4.mp4', 'om9v69-AWg4.mp4', 'ozbNW8-ZLm4.mp4', 'pCYzP-dVNNQ.mp4', 'pR6ibEdkAho.mp4', 'pAb0Odjj5xE.mp4', 'pkluJeHESAk.mp4', 'pgUA4ScsRWQ.mp4', 'pclZlnKxVOM.mp4', 'pWU_TsgvUqE.mp4', 'peMHlUpUsl8.mp4', 'pl8Gdu2nZpY.mp4', 'pmmsM9LKNE8.mp4', 'pZMTahfZwIA.mp4', 'prFYht1NwmU.mp4', 'pobWbWcsHsQ.mp4', 'qE9qG0pvIMM.mp4', 'qFdLDE_Hl1k.mp4', 'pw-2RFtVIbk.mp4', 'qO30vMDLTL4.mp4', 'qAE41uPa9c8.mp4', 'qPasI9VjI1s.mp4', 'qWti317qb_w.mp4', 'pzU9Jy0rJVQ.mp4', 'qk-wXGltml4.mp4', 'qfY6X-nA6uE.mp4', 'qSpAF-JUKEA.mp4', 'q74l-ecOi_8.mp4', 'qn2dhw0NJxo.mp4', 'qtqN9Bcvt4U.mp4', 'qo4C346bBzg.mp4', 'r40-h_srIdA.mp4', 'r5xzcwwJ-B8.mp4', 'r6IMMEp56ts.mp4', 'qvGbNS09cSE.mp4', 'r825TKvtk1Y.mp4', 'r3Bcu08av_Q.mp4', 'r0V9RMM6mHA.mp4', 'rIWb2vlUNaM.mp4', 'r9FkL9UacHQ.mp4', 'rIOrRCiRQnU.mp4', 'rJw5PfIqlcQ.mp4', 'rJiD9C3k__c.mp4', 'rOPHv5YKvh4.mp4', 'rRdi5fesyvw.mp4', 'rUSHbKRvGlE.mp4', 'rc4ukEnN0OA.mp4', 'rMMpeLLgdgY.mp4', 'rPnYsnaU9m4.mp4', 'rrQaifY-kdw.mp4', 'rnl0Pp8WtXA.mp4', 'rM5G3R_GaNE.mp4', 'ryTyKJFnOv4.mp4', 's38e-sGGAE0.mp4', 'rynDFJw4Ni0.mp4', 'sNNknWmTUJo.mp4', 'rrq0ZBW2_Ag.mp4', 'sMH7o2DJDxI.mp4', 'sWZcPSaLpfQ.mp4', 'sP3mXrIhIE0.mp4', 'sO8s69V8al8.mp4', 'sWs6feh9Law.mp4', 'sXB1M0jqU2g.mp4', 'sMQKLB_6G2k.mp4', 'sPCrzROlrqE.mp4', 'sNLk_bHlK1w.mp4', 'sQ-0RkPu35o.mp4', 'sZEeCWcwD1g.mp4', 'shMODE8lzkk.mp4', 't2e__ebF36g.mp4', 'spGKvuAwv_w.mp4', 't32eoUB42rw.mp4', 'tG31xcNk4mU.mp4', 't8sIioCX0lk.mp4', 't8maFBs4w3k.mp4', 'sZp9Te-CuqM.mp4', 'tBu0Mt1J-XQ.mp4', 'tLA3qRBLj3c.mp4', 'tKHXLTJ5ISA.mp4', 'th8mj7pZFlw.mp4', 'tRdKOIi6hYU.mp4', 'tTM1oaEWoEc.mp4', 'tMda6xUG7x0.mp4', 'tqnjNOqxk4M.mp4', 'uPAIBhTrJQc.mp4', 'tjAMHnGdsCA.mp4', 'tXKGasTUxNI.mp4', 'tPE66_w7uR4.mp4', 'uVKeRI8BxV8.mp4', 'toffLT1EQUw.mp4', 'uWGTis_zlgk.mp4', 'uVaP-2n6yFs.mp4', 'uX642OcjJ8E.mp4', 'txtSY00UdZ4.mp4', 'uobFhdaPPks.mp4', 'uZx86qNu-Xg.mp4', 'ulVYYe_y52g.mp4', 'ug90krgdhGo.mp4', 'uXI1TLuM63k.mp4', 'v-qDrg6FOok.mp4', 'uxBCLb5cQpc.mp4', 'uua6hmXd-Ao.mp4', 'vK3nxfKM4Q4.mp4', 'v-yeVxI4CeE.mp4', 'uqWdE5I_I_M.mp4', 'v9zPQhOban0.mp4', 'vC6eZxbVmHo.mp4', 'uxOZy6Aou1I.mp4', 'viSt5pmKoL8.mp4', 'vjqIr35d8NU.mp4', 'vhlFq7NRa78.mp4', 'vkw22d8ZAe0.mp4', 'vrj7MqVz_Hs.mp4', 'vaQovAK7Y_s.mp4', 'vhndIdNZZJg.mp4', 'vlZOAAqtibY.mp4', 'vxjOVTKdZ9g.mp4', 'w2fYQyikrts.mp4', 'w7-JBjJgKS4.mp4', 'vxDvJD2lTpU.mp4', 'vwIyulPnXcg.mp4', 'wNnw9Luiv2M.mp4', 'wOIZEz0hAY4.mp4', 'wE1tZ6AF8wU.mp4', 'wXjQHAxopzk.mp4', 'wHk_agRE2Lo.mp4', 'wUhuhjua3G0.mp4', 'wJykz_Eg1G4.mp4', 'wDwM3N1iuWk.mp4', 'wn0sB1rDNIc.mp4', 'x2wXOLHojrU.mp4', 'xEdhIXGZsNY.mp4', 'wY8iGyf9Au4.mp4', 'woQ1lI3vkHA.mp4', 'wwA84LxULBA.mp4', 'x2I9jE7VkOY.mp4', 'x0uj1jmHfrM.mp4', 'x4-mMs7Q6gs.mp4', 'xaaVrAYDSWc.mp4', 'xVfuDXjCC1o.mp4', 'xgy5LJAGFbg.mp4', 'xDmxMz688As.mp4', 'xRyYAvhpeMk.mp4', 'xblFEe9uOqQ.mp4', 'xnumT2J8CVQ.mp4', 'xrosgdg8FGw.mp4', 'xpwzITnRnsY.mp4', 'xtbjNvj7k9M.mp4', 'xushFVa3jL0.mp4', 'xfZhb6lmxjk.mp4', 'xh41aSPf5_M.mp4', 'xkkBlcc4PW8.mp4', 'xwqn3nm5M1o.mp4', 'ySScxN8MuFU.mp4', 'yO8jYyMSr28.mp4', 'yEbAC4hIKCg.mp4', 'xi9FH0gWLn4.mp4', 'y75CLDEoEkQ.mp4', 'yXj1IzDk2b8.mp4', 'ypYg1a4uIJs.mp4', 'yTccczphbnU.mp4', 'yriA7snxf18.mp4', 'yeOe6-n3-jM.mp4', 'z-deDZjBIZk.mp4', 'z-Tz9R6ctsc.mp4', 'yr8F0QjjXqc.mp4', 'z4BztMU6cVA.mp4', 'z1AOtMEA-Yg.mp4', 'yZ4PYgjCwZI.mp4', 'zEIqDwiDcBU.mp4', 'zDiEeDxvP7g.mp4', 'z3fIF0kmRhs.mp4', 'z1MZsK186io.mp4', 'zTlQ8kHUiEw.mp4', 'zgd2g-SICIc.mp4', 'yupRx6nO26w.mp4', 'zhg1dcobM0U.mp4', 'zK8gvcz6vYA.mp4', 'z_3S2_41_FE.mp4', 'zo_0Bzsh4WA.mp4', 'zVzkZyj8etU.mp4', 'zrpkP3Ktm2E.mp4', 'zntOR3hTmkY.mp4', '-6hDAzlQJsY.mp4', '-5yWbp6B-eA.mp4', '-aXOQEatR4E.mp4', '-cX-W8aQvuY.mp4', '-kwqSDJ07vI.mp4', '-Bb0srghDWM.mp4', '-WdnX5ffW9U.mp4', '-sE61tHLZeQ.mp4', '-vEcU66tvlI.mp4', '-ILVUXn9jEE.mp4', '-xDt1dwZHfg.mp4', '-eg-MHdoJ_Q.mp4', '-OmaH3dCyq8.mp4', '-XGHcFuNEbA.mp4', '0Do3gn6631Q.mp4', '0Pux_usFxDk.mp4', '0QvfSH19kFM.mp4', '0OpaFDuhW1I.mp4', '0Y6DdLwjqiQ.mp4', '0-h7haNhAic.mp4', '05ZltS-7Mto.mp4', '0mMYDFYKRA8.mp4', '0f3p9SV1cH4.mp4', '0TYlwWp1f3M.mp4', '0zot0BS1-x4.mp4', '0cd-4xuiguo.mp4', '0_XOaS66TcM.mp4', '0nEpnSD_Pt4.mp4', '0siAYIk8muc.mp4', '0v7xhxMr6_k.mp4', '0eQwcA_pUTc.mp4', '1DX5mdLMTIc.mp4', '1NIhv6fCqAU.mp4', '15IeTaS5AUI.mp4', '1dwIceQdbiA.mp4', '1ogTxqidSTU.mp4', '1FecOjMsgMw.mp4', '1elEeIqzJlA.mp4', '16LB2VRUjP0.mp4', '1zEYPwpppfk.mp4', '1WrdzNJ4A44.mp4', '1LWuG1lOXJs.mp4', '22fF_SvJGeY.mp4', '1O0HO_E8Hhk.mp4', '29KdXZH0niA.mp4', '28oRB1LWWEw.mp4', '2TlmmzVSe9o.mp4', '2EGSqWWa-gY.mp4', '2RRsOqinpkU.mp4', '22SuveqQdIc.mp4', '2KfiNn9SF3o.mp4', '2M3tKFajs90.mp4', '2TiuzhZRmXs.mp4', '2ehuLjwS-nI.mp4', '2_-GiiulAw8.mp4', '2RzsBQFdw3w.mp4', '2fp4JYWPyQM.mp4', '33nZHuUkyMw.mp4', '3GLhwx_G5gE.mp4', '3CAQ0ydXatM.mp4', '2ixxO7ErK-E.mp4', '34CZ3w2kQok.mp4', '2gLqVr8VVKU.mp4', '2vqUozfh8yE.mp4', '3BRyGcTlZsU.mp4', '3GTY9y9fAX0.mp4', '3dWiRdq1Zrs.mp4', '3NN1gAa8Mrg.mp4', '3RmIqdiy2Z0.mp4', '3X-yMBviWAk.mp4', '3h4FpkGQWkA.mp4', '3e68SzKBiqM.mp4', '3mLhSyQoyAw.mp4', '3tT7A_5E3HY.mp4', '3exBHVItHZo.mp4', '3de-0kM_Jio.mp4', '3lGIXAgY7b0.mp4', '4-H4Q8iQYD0.mp4', '3lMFxZxe73w.mp4', '46xCuYATOyA.mp4', '43H1XRARc-s.mp4', '45v0A3zIvTs.mp4', '40mR5zjxm50.mp4']\n"
          ]
        }
      ]
    },
    {
      "cell_type": "code",
      "source": [
        ""
      ],
      "metadata": {
        "id": "nCzfARAoO0RI"
      },
      "execution_count": null,
      "outputs": []
    }
  ]
}