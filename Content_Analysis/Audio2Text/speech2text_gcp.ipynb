{
  "cells": [
    {
      "cell_type": "markdown",
      "source": [
        "##Set Up"
      ],
      "metadata": {
        "id": "nMHy7NYWxP4d"
      }
    },
    {
      "cell_type": "code",
      "execution_count": null,
      "metadata": {
        "id": "LT0sJGAIM3cS"
      },
      "outputs": [],
      "source": [
        "!pip install --upgrade google-cloud-videointelligence\n",
        "!pip install google-cloud-speech"
      ]
    },
    {
      "cell_type": "code",
      "execution_count": null,
      "metadata": {
        "colab": {
          "base_uri": "https://localhost:8080/"
        },
        "id": "3WM3xligXKLp",
        "outputId": "4aa9c809-b1b6-4ef4-9378-846145cc12e2"
      },
      "outputs": [
        {
          "output_type": "stream",
          "name": "stdout",
          "text": [
            "Mounted at /content/gdrive\n"
          ]
        }
      ],
      "source": [
        "from google.colab import drive\n",
        "\n",
        "drive.mount(\"/content/gdrive\", force_remount=True)"
      ]
    },
    {
      "cell_type": "code",
      "execution_count": null,
      "metadata": {
        "colab": {
          "base_uri": "https://localhost:8080/"
        },
        "id": "dxBaMW2PXZMu",
        "outputId": "b1b66a79-3909-4a2a-86b7-c09919e12fb7"
      },
      "outputs": [
        {
          "output_type": "stream",
          "name": "stdout",
          "text": [
            "/content/gdrive/.shortcut-targets-by-id/1ohwBGdC8wri16R_SjnGnOM_B619TDepK/Systems '22\n"
          ]
        }
      ],
      "source": [
        "%cd /content/gdrive/MyDrive/\"Systems '22\"/"
      ]
    },
    {
      "cell_type": "code",
      "execution_count": null,
      "metadata": {
        "id": "u6xLwxeacRxk"
      },
      "outputs": [],
      "source": [
        "import sys\n",
        "from google.colab import auth\n",
        "if \"google.colab\" in sys.modules:\n",
        "  auth.authenticate_user()"
      ]
    },
    {
      "cell_type": "code",
      "execution_count": null,
      "metadata": {
        "id": "WJR5xOXQMCdx"
      },
      "outputs": [],
      "source": [
        "BILLING_ACCOUNT_ID = '01074B-EAE851-71F16B'\n",
        "\n",
        "GCP_PROJECT_ID = 'stoked-dominion-341317'\n",
        "PROJECT_NUMBER = '725342657078'\n",
        "\n",
        "!gcloud beta billing projects link $GCP_PROJECT_ID --billing-account $BILLING_ACCOUNT_ID"
      ]
    },
    {
      "cell_type": "code",
      "execution_count": null,
      "metadata": {
        "id": "MfDy2zE4MZsi"
      },
      "outputs": [],
      "source": [
        "!gcloud beta billing accounts list"
      ]
    },
    {
      "cell_type": "code",
      "execution_count": null,
      "metadata": {
        "colab": {
          "base_uri": "https://localhost:8080/"
        },
        "id": "T-bh9hVYd1Nd",
        "outputId": "ece0e581-cb5f-40ed-b0c9-275ce8927cf2"
      },
      "outputs": [
        {
          "output_type": "stream",
          "name": "stdout",
          "text": [
            "Operation \"operations/acat.p2-725342657078-8f2534ff-ae89-4e1e-ad17-5b3cdc5295ae\" finished successfully.\n"
          ]
        }
      ],
      "source": [
        "!gcloud services --project $GCP_PROJECT_ID enable ml.googleapis.com cloudbuild.googleapis.com"
      ]
    },
    {
      "cell_type": "code",
      "execution_count": null,
      "metadata": {
        "id": "x0E8ZdvDd3rS"
      },
      "outputs": [],
      "source": [
        "SERVICE_ACCOUNT_NAME ='ytnotebook'\n",
        "\n",
        "SERVICE_ACCOUNT_EMAIL = f'{SERVICE_ACCOUNT_NAME}@{GCP_PROJECT_ID}.iam.gserviceaccount.com'\n",
        "#!gcloud iam --project $GCP_PROJECT_ID service-accounts create $SERVICE_ACCOUNT_NAME\n",
        "!gcloud projects add-iam-policy-binding $GCP_PROJECT_ID \\\n",
        "    --member serviceAccount:$SERVICE_ACCOUNT_EMAIL \\\n",
        "    --role=roles/editor"
      ]
    },
    {
      "cell_type": "code",
      "execution_count": null,
      "metadata": {
        "id": "sQRmK2Bxd6TL"
      },
      "outputs": [],
      "source": [
        "DEFAULT_AI_PLATFORM_SERVICE_ACCOUNT = f'service-{PROJECT_NUMBER}@cloud-ml.google.com.iam.gserviceaccount.com'\n",
        "\n",
        "!gcloud iam --project $GCP_PROJECT_ID service-accounts add-iam-policy-binding \\\n",
        "--role=roles/iam.serviceAccountAdmin \\\n",
        "--member=serviceAccount:$DEFAULT_AI_PLATFORM_SERVICE_ACCOUNT \\\n",
        "$SERVICE_ACCOUNT_EMAIL"
      ]
    },
    {
      "cell_type": "code",
      "execution_count": null,
      "metadata": {
        "id": "b7df9s7wMtt1"
      },
      "outputs": [],
      "source": [
        "from google.cloud import storage\n",
        "import os\n",
        "import pprint\n",
        "\n",
        "\"\"\"\n",
        "this is the path to the API credentials. Modify this to the path of your own GCP credential.\n",
        "\"\"\"\n",
        "os.environ['GOOGLE_APPLICATION_CREDENTIALS'] = 'Scripts/stoked-dominion-341317-24484c3fbb6f.json'"
      ]
    },
    {
      "cell_type": "markdown",
      "source": [
        "## Upload audios to GCP"
      ],
      "metadata": {
        "id": "eoFsWmBNxVu7"
      }
    },
    {
      "cell_type": "code",
      "execution_count": null,
      "metadata": {
        "id": "hviCp_3gX5jb"
      },
      "outputs": [],
      "source": [
        "import io\n",
        "import argparse\n",
        "from google.cloud import storage\n",
        "from google.cloud import speech\n",
        "import json"
      ]
    },
    {
      "cell_type": "code",
      "execution_count": null,
      "metadata": {
        "id": "BVBVr5ghUG-N"
      },
      "outputs": [],
      "source": [
        "# assign the audios folder here, we will upload audios to GCP from here\n",
        "AUDIO_FOLDER = \"text/audios-wav/\"\n",
        "UP_LOAD_FILE_ROUTE = AUDIO_FOLDER\n",
        "\n",
        "# assign which bucket the audios should be uploaded to\n",
        "BUCKET_NAME =\"audio_wav_list_capstoneyt_2022\"\n"
      ]
    },
    {
      "cell_type": "code",
      "source": [
        "\n",
        "def upload_blob(bucket_name, source_file_name, destination_blob_name):\n",
        "    #Uploads a file to the bucket.\n",
        "\n",
        "    storage_client = storage.Client()\n",
        "    bucket = storage_client.bucket(bucket_name)\n",
        "    blob = bucket.blob(destination_blob_name)\n",
        "\n",
        "    blob.upload_from_filename(source_file_name)\n",
        "\n",
        "    print(\n",
        "        \"File {} uploaded to {}.\".format(\n",
        "            source_file_name, destination_blob_name\n",
        "        )\n",
        "    )\n"
      ],
      "metadata": {
        "id": "QQ9SdWoHwv78"
      },
      "execution_count": null,
      "outputs": []
    },
    {
      "cell_type": "code",
      "execution_count": null,
      "metadata": {
        "id": "7l_tPs-yUPV5"
      },
      "outputs": [],
      "source": [
        "\n",
        "def bucket_metadata(bucket_name):\n",
        "    #Prints out a bucket's metadata.\n",
        "    storage_client = storage.Client()\n",
        "    bucket = storage_client.get_bucket(bucket_name)\n",
        "\n",
        "    print(\"ID: {}\".format(bucket.id))\n",
        "    print(\"Name: {}\".format(bucket.name))compared\n",
        "    print(\"Storage Class: {}\".format(bucket.storage_class))\n",
        "    print(\"Location: {}\".format(bucket.location))\n",
        "    print(\"Location Type: {}\".format(bucket.location_type))\n",
        "    print(\"Cors: {}\".format(bucket.cors))\n",
        "    print(\n",
        "        \"Default Event Based Hold: {}\".format(bucket.default_event_based_hold)\n",
        "    )\n",
        "    print(\"Default KMS Key Name: {}\".format(bucket.default_kms_key_name))\n",
        "    print(\"Metageneration: {}\".format(bucket.metageneration))\n",
        "    print(\n",
        "        \"Retention Effective Time: {}\".format(\n",
        "            bucket.retention_policy_effective_time\n",
        "        )\n",
        "    )\n",
        "    print(\"Retention Period: {}\".format(bucket.retention_period))\n",
        "    print(\"Retention Policy Locked: {}\".format(bucket.retention_policy_locked))\n",
        "    print(\"Requester Pays: {}\".format(bucket.requester_pays))\n",
        "    print(\"Self Link: {}\".format(bucket.self_link))\n",
        "    print(\"Time Created: {}\".format(bucket.time_created))\n",
        "    print(\"Versioning Enabled: {}\".format(bucket.versioning_enabled))\n",
        "    print(\"Labels:\")\n",
        "    print.pprint(bucket.labels)\n",
        "\n",
        "def list_blobs_with_prefix(bucket_name, prefix, out_list, delimiter=None):\n",
        "    storage_client = storage.Client()\n",
        "    blobs = storage_client.list_blobs(bucket_name, prefix=prefix, delimiter=delimiter)\n",
        "\n",
        "    #print(\"Blobs:\")\n",
        "    for blob in blobs:\n",
        "      #print(blob.name)\n",
        "      out_list.append(blob.name)\n",
        "\n",
        "def upload_files(i,j,filenames):\n",
        "    #file_names = os.listdir(UP_LOAD_FILE_ROUTE)\n",
        "    #print(\"remaining: \", len(file_names) - len(outputAudio))\n",
        "    for file1 in file_names[i:j]:\n",
        "        if AUDIO_FOLDER[5:]+file1 not in outputAudio:\n",
        "          storage_client = storage.Client()\n",
        "          bucket= storage_client.bucket(BUCKET_NAME)\n",
        "          source_file_route = os.path.join(UP_LOAD_FILE_ROUTE, file1)\n",
        "          blob = bucket.blob(AUDIO_FOLDER[5:]+file1)\n",
        "          blob.upload_from_filename(source_file_route)\n",
        "          print(\n",
        "              \"File {} uploaded to {}.\".format(\n",
        "                  source_file_route, file1\n",
        "              )\n",
        "          )\n",
        "          bucket=None\n",
        "\n"
      ]
    },
    {
      "cell_type": "code",
      "execution_count": null,
      "metadata": {
        "id": "gYPY5ydIR-ia"
      },
      "outputs": [],
      "source": [
        "outputAudio=[]\n",
        "list_blobs_with_prefix(bucket_name=BUCKET_NAME, prefix=\"audios-wav/\", delimiter=\"/\",out_list=outputAudio)\n",
        "\n",
        "\n",
        "file_names = list(set(os.listdir(UP_LOAD_FILE_ROUTE))-set([x[11:] for x in outputAudio]))\n",
        "print(\"Remaining audios number: \", len(file_names) - len(outputAudio))\n",
        "\n",
        "\n",
        "MIN=0\n",
        "MAX=len(file_names)"
      ]
    },
    {
      "cell_type": "code",
      "execution_count": null,
      "metadata": {
        "id": "nrh6f7CHyP_r"
      },
      "outputs": [],
      "source": [
        "\"\"\"\n",
        "re-enter the upload_files method after every 4 uploads\n",
        "\"\"\"\n",
        "while len(file_names)>4:\n",
        "  outputAudio=[]\n",
        "  list_blobs_with_prefix(bucket_name=\"audio_wav_list_capstoneyt_2022\", prefix=\"audios-wav/\", delimiter=\"/\",out_list=outputAudio)\n",
        "  file_names = list(set(os.listdir(UP_LOAD_FILE_ROUTE))-set([x[11:] for x in outputAudio]))\n",
        "  upload_files(0,4,file_names)\n",
        "  #from google.colab import drive\n",
        "  #drive.mount(\"/content/gdrive\", force_remount=True)\n",
        "upload_files(0,len(file_names),file_names)"
      ]
    },
    {
      "cell_type": "markdown",
      "source": [
        ""
      ],
      "metadata": {
        "id": "oW6DlGXQxOxL"
      }
    },
    {
      "cell_type": "markdown",
      "source": [
        "## Speech to text"
      ],
      "metadata": {
        "id": "wQtkr4VCxfs0"
      }
    },
    {
      "cell_type": "code",
      "execution_count": null,
      "metadata": {
        "id": "RUYswgsuX8IW"
      },
      "outputs": [],
      "source": [
        "# assign SAVE PATH for recognized text\n",
        "AUDIO_PATH = \"./text/audios-wav\"\n",
        "SAVE_PATH = \"./text/transcript_text/unlabeled/raw_text/\"\n",
        "AUDIO_ID_LIST = os.listdir(AUDIO_PATH)\n",
        "AUDIO_ID_LIST"
      ]
    },
    {
      "cell_type": "code",
      "execution_count": null,
      "metadata": {
        "id": "nrs1FWcbbFiP"
      },
      "outputs": [],
      "source": [
        "def get_processed_filename_set():\n",
        "  \"\"\"\n",
        "  Get the set of processed filenames.\n",
        "  \"\"\"\n",
        "    processed_filename_set = os.listdir(SAVE_PATH)\n",
        "    processed_filename_set = [i.split('.')[0] for i in processed_filename_set]\n",
        "    return processed_filename_set"
      ]
    },
    {
      "cell_type": "code",
      "execution_count": null,
      "metadata": {
        "id": "A5C6spk_b8D_"
      },
      "outputs": [],
      "source": [
        "def sample_long_running_recognize(storage_uri, filename):\n",
        "    \"\"\"\n",
        "    Transcribe long audio file from Cloud Storage using asynchronous speech\n",
        "    recognition\n",
        "    Args:\n",
        "      storage_uri URI for audio file in Cloud Storage, e.g. gs://[BUCKET]/[FILE]\n",
        "    \"\"\"\n",
        "\n",
        "    client = speech.SpeechClient()\n",
        "    print(\"connect client\")\n",
        "\n",
        "    # storage_uri = 'gs://cloud-samples-data/speech/brooklyn_bridge.raw'\n",
        "\n",
        "    # Sample rate in Hertz of the audio data sent\n",
        "    sample_rate_hertz = 16000\n",
        "\n",
        "    # The language of the supplied audio\n",
        "    language_code = \"en-US\"\n",
        "\n",
        "    # Encoding of audio data sent. This sample sets this explicitly.\n",
        "    # This field is optional for FLAC and WAV audio formats.\n",
        "    encoding = speech.RecognitionConfig.AudioEncoding.LINEAR16\n",
        "    config = {\n",
        "        \"audio_channel_count\": 2,\n",
        "        \"enable_separate_recognition_per_channel\": False,\n",
        "        # \"sample_rate_hertz\": sample_rate_hertz,\n",
        "        \"language_code\": language_code,\n",
        "        \"enable_automatic_punctuation\": True,\n",
        "        \"encoding\": encoding,\n",
        "    }\n",
        "    audio = {\"uri\": storage_uri}\n",
        "    operation = client.long_running_recognize(request={\"config\": config, \"audio\": audio})\n",
        "\n",
        "    print(u\"Waiting for operation to complete...\")\n",
        "    response = operation.result()\n",
        "\n",
        "    filename = filename.split('.')[0].split('/')[-1]\n",
        "\n",
        "    transcript_json = []\n",
        "    transcript_str = ''\n",
        "    for idx, result in enumerate(response.results):\n",
        "        # First alternative is the most probable result\n",
        "        alternative = result.alternatives[0]\n",
        "        print(u\"Transcript: {}\".format(alternative.transcript))\n",
        "        print(u\"Confidence: {}\".format(alternative.confidence))\n",
        "        transcript_str += alternative.transcript\n",
        "        transcript_json.append({\"transcript\":alternative.transcript, \"confidence\":alternative.confidence})\n",
        "    with open(os.path.join(SAVE_PATH, filename+'.txt'), 'w') as f1:\n",
        "        f1.write(transcript_str)\n",
        "    with open(os.path.join(SAVE_PATH, filename+'.json'), 'w') as f2:\n",
        "        json.dump(transcript_json, f2)"
      ]
    },
    {
      "cell_type": "code",
      "execution_count": null,
      "metadata": {
        "id": "yBBWvwELdds8"
      },
      "outputs": [],
      "source": [
        "def get_exist_filename_set(bucket_name):\n",
        "\n",
        "    client = storage.Client()\n",
        "    # bucket = storage.Bucket(\"fyanvideos\")\n",
        "    blob_list = client.list_blobs(bucket_name)\n",
        "    filenames = set()\n",
        "    for blob in blob_list:\n",
        "        filenames.add(blob.name)\n",
        "        # print(blob.name)\n",
        "    return filenames"
      ]
    },
    {
      "cell_type": "code",
      "execution_count": null,
      "metadata": {
        "id": "WOv4ELMcbKbP"
      },
      "outputs": [],
      "source": [
        "def main():\n",
        "  \"\"\"\n",
        "  Start recognizing...\n",
        "  \"\"\"\n",
        "    filenames = get_exist_filename_set(BUCKET_NAME)\n",
        "    processed_filename_set = get_processed_filename_set()\n",
        "    processed=0\n",
        "    \n",
        "    for filename in list(filenames)[800:]:\n",
        "        pre_name = filename.split('.')[0].split('/')[-1]\n",
        "        if pre_name not in processed_filename_set:\n",
        "            if processed>0:\n",
        "              print('already processed %d'%processed)\n",
        "              processed=0\n",
        "            storage_uri = 'gs://{}/{}'.format(BUCKET_NAME, filename)\n",
        "            sample_long_running_recognize(storage_uri, filename)  \n",
        "        else:\n",
        "            processed+=1"
      ]
    },
    {
      "cell_type": "code",
      "execution_count": null,
      "metadata": {
        "id": "YQeyq7AOZTeB"
      },
      "outputs": [],
      "source": [
        "main()"
      ]
    }
  ],
  "metadata": {
    "colab": {
      "collapsed_sections": [],
      "name": "speech2text_gcp.ipynb",
      "provenance": []
    },
    "kernelspec": {
      "display_name": "Python 3",
      "name": "python3"
    },
    "language_info": {
      "name": "python"
    }
  },
  "nbformat": 4,
  "nbformat_minor": 0
}